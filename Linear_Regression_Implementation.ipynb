{
  "nbformat": 4,
  "nbformat_minor": 0,
  "metadata": {
    "colab": {
      "provenance": []
    },
    "kernelspec": {
      "name": "python3",
      "display_name": "Python 3"
    },
    "language_info": {
      "name": "python"
    }
  },
  "cells": [
    {
      "cell_type": "code",
      "execution_count": 1,
      "metadata": {
        "colab": {
          "base_uri": "https://localhost:8080/"
        },
        "id": "jBsP5oAKb90M",
        "outputId": "a4acbde8-6874-40f9-e8e1-c9c303380be5"
      },
      "outputs": [
        {
          "output_type": "stream",
          "name": "stdout",
          "text": [
            "Linear Regression Performance:\n",
            "Mean Squared Error: 473219590.410396\n",
            "Mean Absolute Error: 14561.495518148897\n",
            "R^2 Score: 0.09252940839736068\n"
          ]
        }
      ],
      "source": [
        "# Import necessary libraries\n",
        "import pandas as pd\n",
        "from sklearn.model_selection import train_test_split\n",
        "from sklearn.linear_model import LinearRegression\n",
        "from sklearn.metrics import mean_squared_error, mean_absolute_error, r2_score\n",
        "\n",
        "# Load datasets\n",
        "train = pd.read_csv('/content/train.csv')\n",
        "stores = pd.read_csv('/content/stores.csv')\n",
        "features = pd.read_csv('/content/features.csv')\n",
        "test = pd.read_csv('/content/test.csv')\n",
        "\n",
        "# Merge datasets for training\n",
        "data = train.merge(stores, on=\"Store\").merge(features, on=[\"Store\", \"Date\", \"IsHoliday\"])\n",
        "\n",
        "# Merge datasets for testing\n",
        "test_data = test.merge(stores, on=\"Store\").merge(features, on=[\"Store\", \"Date\", \"IsHoliday\"])\n",
        "\n",
        "# Drop unnecessary columns\n",
        "data.drop(['MarkDown1', 'MarkDown5'], axis=1, inplace=True)\n",
        "test_data.drop(['MarkDown1', 'MarkDown5'], axis=1, inplace=True)\n",
        "\n",
        "# Handle missing values\n",
        "data.fillna(0, inplace=True)\n",
        "test_data.fillna(0, inplace=True)\n",
        "\n",
        "# Convert Date to datetime and extract relevant features\n",
        "data['Date'] = pd.to_datetime(data['Date'])\n",
        "test_data['Date'] = pd.to_datetime(test_data['Date'])\n",
        "data['Year'] = data['Date'].dt.year\n",
        "test_data['Year'] = test_data['Date'].dt.year\n",
        "data['Month'] = data['Date'].dt.month\n",
        "test_data['Month'] = test_data['Date'].dt.month\n",
        "data['Week'] = data['Date'].dt.isocalendar().week\n",
        "test_data['Week'] = test_data['Date'].dt.isocalendar().week\n",
        "\n",
        "# One-hot encode categorical variables\n",
        "data = pd.get_dummies(data, columns=['Type'], drop_first=True)\n",
        "test_data = pd.get_dummies(test_data, columns=['Type'], drop_first=True)\n",
        "\n",
        "# Define features and target\n",
        "X = data.drop(['Weekly_Sales', 'Date'], axis=1)\n",
        "y = data['Weekly_Sales']\n",
        "X_test_final = test_data.drop(['Date'], axis=1)  # Retain all features for test\n",
        "\n",
        "# Split training dataset for evaluation\n",
        "X_train, X_val, y_train, y_val = train_test_split(X, y, test_size=0.2, random_state=42)\n",
        "\n",
        "# Apply Linear Regression\n",
        "model = LinearRegression()\n",
        "model.fit(X_train, y_train)\n",
        "\n",
        "# Predictions\n",
        "y_pred = model.predict(X_val)\n",
        "\n",
        "# Evaluation Metrics\n",
        "mse = mean_squared_error(y_val, y_pred)\n",
        "mae = mean_absolute_error(y_val, y_pred)\n",
        "r2 = r2_score(y_val, y_pred)\n",
        "\n",
        "print(\"Linear Regression Performance:\")\n",
        "print(f\"Mean Squared Error: {mse}\")\n",
        "print(f\"Mean Absolute Error: {mae}\")\n",
        "print(f\"R^2 Score: {r2}\")\n",
        "\n",
        "# Predict on test data\n",
        "test_predictions = model.predict(X_test_final)\n",
        "\n",
        "# Save test predictions\n",
        "test_data['Predicted_Weekly_Sales'] = test_predictions\n",
        "test_data.to_csv('test_predictions.csv', index=False)\n"
      ]
    }
  ]
}