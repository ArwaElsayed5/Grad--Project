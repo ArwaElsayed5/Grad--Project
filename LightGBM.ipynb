{
  "nbformat": 4,
  "nbformat_minor": 0,
  "metadata": {
    "colab": {
      "provenance": []
    },
    "kernelspec": {
      "name": "python3",
      "display_name": "Python 3"
    },
    "language_info": {
      "name": "python"
    }
  },
  "cells": [
    {
      "cell_type": "code",
      "execution_count": 4,
      "metadata": {
        "colab": {
          "base_uri": "https://localhost:8080/"
        },
        "id": "jBsP5oAKb90M",
        "outputId": "e3ea9b23-a584-4180-a314-53087c2c5778"
      },
      "outputs": [
        {
          "output_type": "stream",
          "name": "stdout",
          "text": [
            "[LightGBM] [Info] Auto-choosing row-wise multi-threading, the overhead of testing was 0.029864 seconds.\n",
            "You can set `force_row_wise=true` to remove the overhead.\n",
            "And if memory is not enough, you can set `force_col_wise=true`.\n",
            "[LightGBM] [Info] Total Bins 2019\n",
            "[LightGBM] [Info] Number of data points in the train set: 337256, number of used features: 16\n",
            "[LightGBM] [Info] Start training from score 15979.221909\n",
            "LightGBM Model Performance:\n",
            "Mean Squared Error (MSE): 20772018.366955057\n",
            "Mean Absolute Error (MAE): 2642.499287739719\n",
            "R^2: 0.9601664931498417\n"
          ]
        }
      ],
      "source": [
        "import pandas as pd\n",
        "from sklearn.model_selection import train_test_split\n",
        "from sklearn.metrics import mean_squared_error, mean_absolute_error, r2_score\n",
        "import lightgbm as lgb\n",
        "\n",
        "# Load datasets\n",
        "train = pd.read_csv('train.csv')\n",
        "stores = pd.read_csv('stores.csv')\n",
        "features = pd.read_csv('features.csv')\n",
        "test = pd.read_csv('test.csv')\n",
        "\n",
        "# Merge datasets\n",
        "data = train.merge(stores, on=\"Store\").merge(features, on=[\"Store\", \"Date\", \"IsHoliday\"])\n",
        "test_data = test.merge(stores, on=\"Store\").merge(features, on=[\"Store\", \"Date\", \"IsHoliday\"])\n",
        "\n",
        "# Drop unnecessary columns\n",
        "data.drop(['MarkDown1', 'MarkDown5'], axis=1, inplace=True)\n",
        "test_data.drop(['MarkDown1', 'MarkDown5'], axis=1, inplace=True)\n",
        "\n",
        "# Handle missing values\n",
        "data.fillna(0, inplace=True)\n",
        "test_data.fillna(0, inplace=True)\n",
        "\n",
        "# Convert Date to datetime and extract features\n",
        "data['Date'] = pd.to_datetime(data['Date'])\n",
        "test_data['Date'] = pd.to_datetime(test_data['Date'])\n",
        "data['Year'] = data['Date'].dt.year\n",
        "test_data['Year'] = test_data['Date'].dt.year\n",
        "data['Month'] = data['Date'].dt.month\n",
        "test_data['Month'] = test_data['Date'].dt.month\n",
        "data['Week'] = data['Date'].dt.isocalendar().week\n",
        "test_data['Week'] = test_data['Date'].dt.isocalendar().week\n",
        "\n",
        "# One-hot encode categorical variables\n",
        "data = pd.get_dummies(data, columns=['Type'], drop_first=True)\n",
        "test_data = pd.get_dummies(test_data, columns=['Type'], drop_first=True)\n",
        "\n",
        "# Define features and target\n",
        "X = data.drop(['Weekly_Sales', 'Date'], axis=1)\n",
        "y = data['Weekly_Sales']\n",
        "\n",
        "X_train, X_val, y_train, y_val = train_test_split(X, y, test_size=0.2, random_state=42)\n",
        "\n",
        "# Define LightGBM parameters\n",
        "params = {\n",
        "    'objective': 'regression',\n",
        "    'metric': 'rmse',\n",
        "    'boosting_type': 'gbdt',\n",
        "    'learning_rate': 0.1,\n",
        "    'num_leaves': 31\n",
        "}\n",
        "\n",
        "train_data = lgb.Dataset(X_train, label=y_train)\n",
        "valid_data = lgb.Dataset(X_val, label=y_val, reference=train_data)\n",
        "\n",
        "# Train model\n",
        "model = lgb.train(params, train_data, num_boost_round=500, valid_sets=[valid_data])\n",
        "\n",
        "# Predict on validation set\n",
        "predictions = model.predict(X_val, num_iteration=model.best_iteration)\n",
        "\n",
        "# Calculate evaluation metrics\n",
        "mse = mean_squared_error(y_val, predictions)\n",
        "mae = mean_absolute_error(y_val, predictions)\n",
        "r2 = r2_score(y_val, predictions)\n",
        "\n",
        "print(\"LightGBM Model Performance:\")\n",
        "print(f\"Mean Squared Error (MSE): {mse}\")\n",
        "print(f\"Mean Absolute Error (MAE): {mae}\")\n",
        "print(f\"R^2: {r2}\")\n",
        "\n",
        "# Predict on test dataset\n",
        "final_predictions = model.predict(test_data.drop(['Date'], axis=1))\n",
        "test_data['Predicted_Sales'] = final_predictions\n",
        "\n",
        "# Save predictions to CSV\n",
        "test_data.to_csv('lightgbm_predictions.csv', index=False)\n"
      ]
    }
  ]
}